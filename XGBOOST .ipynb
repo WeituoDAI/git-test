{
 "cells": [
  {
   "cell_type": "code",
   "execution_count": 1,
   "metadata": {},
   "outputs": [
    {
     "name": "stdout",
     "output_type": "stream",
     "text": [
      "Shape before deleting duplicate values: (48842, 15)\n"
     ]
    },
    {
     "data": {
      "text/html": [
       "<div>\n",
       "<style scoped>\n",
       "    .dataframe tbody tr th:only-of-type {\n",
       "        vertical-align: middle;\n",
       "    }\n",
       "\n",
       "    .dataframe tbody tr th {\n",
       "        vertical-align: top;\n",
       "    }\n",
       "\n",
       "    .dataframe thead th {\n",
       "        text-align: right;\n",
       "    }\n",
       "</style>\n",
       "<table border=\"1\" class=\"dataframe\">\n",
       "  <thead>\n",
       "    <tr style=\"text-align: right;\">\n",
       "      <th></th>\n",
       "      <th>age</th>\n",
       "      <th>workclass</th>\n",
       "      <th>fnlwgt</th>\n",
       "      <th>education</th>\n",
       "      <th>educational-num</th>\n",
       "      <th>marital-status</th>\n",
       "      <th>occupation</th>\n",
       "      <th>relationship</th>\n",
       "      <th>race</th>\n",
       "      <th>gender</th>\n",
       "      <th>capital-gain</th>\n",
       "      <th>capital-loss</th>\n",
       "      <th>hours-per-week</th>\n",
       "      <th>native-country</th>\n",
       "      <th>income</th>\n",
       "    </tr>\n",
       "  </thead>\n",
       "  <tbody>\n",
       "    <tr>\n",
       "      <th>0</th>\n",
       "      <td>25</td>\n",
       "      <td>4</td>\n",
       "      <td>226802</td>\n",
       "      <td>1</td>\n",
       "      <td>7</td>\n",
       "      <td>4</td>\n",
       "      <td>7</td>\n",
       "      <td>3</td>\n",
       "      <td>2</td>\n",
       "      <td>1</td>\n",
       "      <td>0</td>\n",
       "      <td>0</td>\n",
       "      <td>40</td>\n",
       "      <td>39</td>\n",
       "      <td>0</td>\n",
       "    </tr>\n",
       "    <tr>\n",
       "      <th>1</th>\n",
       "      <td>38</td>\n",
       "      <td>4</td>\n",
       "      <td>89814</td>\n",
       "      <td>11</td>\n",
       "      <td>9</td>\n",
       "      <td>2</td>\n",
       "      <td>5</td>\n",
       "      <td>0</td>\n",
       "      <td>4</td>\n",
       "      <td>1</td>\n",
       "      <td>0</td>\n",
       "      <td>0</td>\n",
       "      <td>50</td>\n",
       "      <td>39</td>\n",
       "      <td>0</td>\n",
       "    </tr>\n",
       "    <tr>\n",
       "      <th>2</th>\n",
       "      <td>28</td>\n",
       "      <td>2</td>\n",
       "      <td>336951</td>\n",
       "      <td>7</td>\n",
       "      <td>12</td>\n",
       "      <td>2</td>\n",
       "      <td>11</td>\n",
       "      <td>0</td>\n",
       "      <td>4</td>\n",
       "      <td>1</td>\n",
       "      <td>0</td>\n",
       "      <td>0</td>\n",
       "      <td>40</td>\n",
       "      <td>39</td>\n",
       "      <td>1</td>\n",
       "    </tr>\n",
       "    <tr>\n",
       "      <th>3</th>\n",
       "      <td>44</td>\n",
       "      <td>4</td>\n",
       "      <td>160323</td>\n",
       "      <td>15</td>\n",
       "      <td>10</td>\n",
       "      <td>2</td>\n",
       "      <td>7</td>\n",
       "      <td>0</td>\n",
       "      <td>2</td>\n",
       "      <td>1</td>\n",
       "      <td>7688</td>\n",
       "      <td>0</td>\n",
       "      <td>40</td>\n",
       "      <td>39</td>\n",
       "      <td>1</td>\n",
       "    </tr>\n",
       "    <tr>\n",
       "      <th>4</th>\n",
       "      <td>18</td>\n",
       "      <td>0</td>\n",
       "      <td>103497</td>\n",
       "      <td>15</td>\n",
       "      <td>10</td>\n",
       "      <td>4</td>\n",
       "      <td>0</td>\n",
       "      <td>3</td>\n",
       "      <td>4</td>\n",
       "      <td>0</td>\n",
       "      <td>0</td>\n",
       "      <td>0</td>\n",
       "      <td>30</td>\n",
       "      <td>39</td>\n",
       "      <td>0</td>\n",
       "    </tr>\n",
       "  </tbody>\n",
       "</table>\n",
       "</div>"
      ],
      "text/plain": [
       "   age  workclass  fnlwgt  education  educational-num  marital-status  \\\n",
       "0   25          4  226802          1                7               4   \n",
       "1   38          4   89814         11                9               2   \n",
       "2   28          2  336951          7               12               2   \n",
       "3   44          4  160323         15               10               2   \n",
       "4   18          0  103497         15               10               4   \n",
       "\n",
       "   occupation  relationship  race  gender  capital-gain  capital-loss  \\\n",
       "0           7             3     2       1             0             0   \n",
       "1           5             0     4       1             0             0   \n",
       "2          11             0     4       1             0             0   \n",
       "3           7             0     2       1          7688             0   \n",
       "4           0             3     4       0             0             0   \n",
       "\n",
       "   hours-per-week  native-country  income  \n",
       "0              40              39       0  \n",
       "1              50              39       0  \n",
       "2              40              39       1  \n",
       "3              40              39       1  \n",
       "4              30              39       0  "
      ]
     },
     "execution_count": 1,
     "metadata": {},
     "output_type": "execute_result"
    }
   ],
   "source": [
    "import pandas as pd\n",
    "import numpy as np\n",
    "\n",
    "data=pd.read_csv('adult.csv', encoding='latin')\n",
    "print('Shape before deleting duplicate values:', data.shape)\n",
    "\n",
    "# Printing sample data\n",
    "# Start observing the Quantitative/Categorical/Qualitative variables\n",
    "data.head(5)"
   ]
  },
  {
   "cell_type": "code",
   "execution_count": 2,
   "metadata": {},
   "outputs": [],
   "source": [
    "Target=data.columns[-1]\n",
    "Feature_names=np.array(data.columns)[:-1]\n"
   ]
  },
  {
   "cell_type": "code",
   "execution_count": 3,
   "metadata": {},
   "outputs": [
    {
     "name": "stdout",
     "output_type": "stream",
     "text": [
      "income\n",
      "['age' 'workclass' 'fnlwgt' 'education' 'educational-num' 'marital-status'\n",
      " 'occupation' 'relationship' 'race' 'gender' 'capital-gain' 'capital-loss'\n",
      " 'hours-per-week' 'native-country']\n"
     ]
    }
   ],
   "source": [
    "print(Target)\n",
    "print(Feature_names)"
   ]
  },
  {
   "cell_type": "code",
   "execution_count": 4,
   "metadata": {},
   "outputs": [],
   "source": [
    "y = data[Target]\n",
    "X = data.drop(axis=1,labels=Target,inplace=False)"
   ]
  },
  {
   "cell_type": "code",
   "execution_count": 5,
   "metadata": {},
   "outputs": [
    {
     "name": "stdout",
     "output_type": "stream",
     "text": [
      "['age', 'fnlwgt', 'capital-gain', 'capital-loss', 'hours-per-week', 'native-country']\n",
      "['workclass', 'education', 'educational-num', 'marital-status', 'occupation', 'relationship', 'race', 'gender']\n"
     ]
    }
   ],
   "source": [
    "aa=X.nunique()\n",
    "\n",
    "Continousfeatures=[]\n",
    "Categoricalfeatures=[]\n",
    "\n",
    "for i in range(len(Feature_names)):\n",
    "    if aa[i]>30:\n",
    "        Continousfeatures.append(Feature_names[i])\n",
    "    else:\n",
    "        Categoricalfeatures.append(Feature_names[i])\n",
    "\n",
    "print(Continousfeatures)\n",
    "print(Categoricalfeatures)"
   ]
  },
  {
   "cell_type": "code",
   "execution_count": 6,
   "metadata": {},
   "outputs": [],
   "source": [
    "from sklearn.model_selection import train_test_split\n",
    "\n",
    "train, test = train_test_split(data,test_size=0.2,random_state=428)\n",
    "\n",
    "\n",
    "\n",
    "X_train=train.drop(axis=1,labels=Target,inplace=False)\n",
    "y_train=train[Target]\n",
    "\n",
    "X_test=test.drop(axis=1,labels=Target,inplace=False)\n",
    "y_test=test[Target]\n",
    "\n"
   ]
  },
  {
   "cell_type": "code",
   "execution_count": 7,
   "metadata": {},
   "outputs": [],
   "source": [
    "for i in Categoricalfeatures:\n",
    "    X[i].astype(\"category\")\n",
    "    X_train[i].astype(\"category\")\n",
    "    X_test[i].astype(\"category\")\n"
   ]
  },
  {
   "cell_type": "markdown",
   "metadata": {},
   "source": [
    "# XGBOOST"
   ]
  },
  {
   "cell_type": "code",
   "execution_count": 8,
   "metadata": {},
   "outputs": [],
   "source": [
    "##pip install xgboost\n",
    "import xgboost as xgb"
   ]
  },
  {
   "cell_type": "code",
   "execution_count": 9,
   "metadata": {},
   "outputs": [
    {
     "data": {
      "text/plain": [
       "XGBClassifier(base_score=0.5, booster='gbtree', callbacks=None,\n",
       "              colsample_bylevel=1, colsample_bynode=1, colsample_bytree=1,\n",
       "              early_stopping_rounds=None, enable_categorical=True,\n",
       "              eval_metric=None, gamma=0, gpu_id=-1, grow_policy='depthwise',\n",
       "              importance_type=None, interaction_constraints='',\n",
       "              learning_rate=0.300000012, max_bin=256, max_cat_to_onehot=4,\n",
       "              max_delta_step=0, max_depth=6, max_leaves=0, min_child_weight=1,\n",
       "              missing=nan, monotone_constraints='()', n_estimators=50, n_jobs=0,\n",
       "              num_parallel_tree=1, predictor='auto', random_state=0,\n",
       "              reg_alpha=0, reg_lambda=1, ...)"
      ]
     },
     "execution_count": 9,
     "metadata": {},
     "output_type": "execute_result"
    }
   ],
   "source": [
    "clf = xgb.XGBClassifier(\n",
    "    n_estimators=50,\n",
    "    enable_categorical=True,  #  si True, tree_method = \"gpu_hist\" or \"hist\" or \"approx\"\n",
    "    tree_method=\"approx\",        # \"gpu_hist\" or \"hist\" or \"approx\" or \"exact\"\n",
    "    #max_depth,booster,random_state,tree_method\n",
    ")\n",
    "\n",
    "\n",
    "clf.fit(X, y)\n",
    "\n"
   ]
  },
  {
   "cell_type": "code",
   "execution_count": 10,
   "metadata": {},
   "outputs": [
    {
     "name": "stdout",
     "output_type": "stream",
     "text": [
      "              precision    recall  f1-score   support\n",
      "\n",
      "           0       0.91      0.95      0.93      7442\n",
      "           1       0.81      0.68      0.74      2327\n",
      "\n",
      "    accuracy                           0.89      9769\n",
      "   macro avg       0.86      0.82      0.84      9769\n",
      "weighted avg       0.88      0.89      0.88      9769\n",
      "\n",
      "[[7076  366]\n",
      " [ 737 1590]]\n",
      "Accuracy of the model on Testing Sample Data: 0.88\n"
     ]
    }
   ],
   "source": [
    "prediction=clf.predict(X_test)\n",
    "\n",
    "import matplotlib.pyplot as plt\n",
    "\n",
    "# Measuring accuracy on Testing Data\n",
    "from sklearn import metrics\n",
    "print(metrics.classification_report(y_test, prediction))\n",
    "print(metrics.confusion_matrix(y_test, prediction))\n",
    "\n",
    "# Printing the Overall Accuracy of the model\n",
    "F1_Score=metrics.f1_score(y_test, prediction, average='weighted')\n",
    "print('Accuracy of the model on Testing Sample Data:', round(F1_Score,2))\n"
   ]
  },
  {
   "cell_type": "markdown",
   "metadata": {},
   "source": [
    "$precison = \\frac{TP}{TP+FP}$\n",
    "\n",
    "$ recall = \\frac{TP}{TP+FN}$\n",
    "\n",
    "$ F1 = \\frac{2*precision*recall}{precision+recall}$"
   ]
  },
  {
   "cell_type": "code",
   "execution_count": 11,
   "metadata": {},
   "outputs": [
    {
     "name": "stdout",
     "output_type": "stream",
     "text": [
      "\n",
      "Accuracy values for 10-fold Cross Validation:\n",
      " [0.86401632 0.86701572 0.87060767 0.86874473 0.87277043 0.86658771\n",
      " 0.87174381 0.86946249 0.87479577 0.87174574]\n",
      "\n",
      "Final Average Accuracy of the model: 0.87\n"
     ]
    }
   ],
   "source": [
    "\n",
    "# Importing cross validation function from sklearn\n",
    "from sklearn.model_selection import cross_val_score\n",
    "\n",
    "# Running 10-Fold Cross validation on a given algorithm\n",
    "# Passing full data X and y because the K-fold will split the data and automatically choose train/test\n",
    "Accuracy_Values=cross_val_score(clf, X , y, cv=10, scoring='f1_weighted')\n",
    "print('\\nAccuracy values for 10-fold Cross Validation:\\n',Accuracy_Values)\n",
    "print('\\nFinal Average Accuracy of the model:', round(Accuracy_Values.mean(),2))\n",
    "\n"
   ]
  },
  {
   "cell_type": "code",
   "execution_count": 12,
   "metadata": {},
   "outputs": [
    {
     "data": {
      "text/plain": [
       "<AxesSubplot:>"
      ]
     },
     "execution_count": 12,
     "metadata": {},
     "output_type": "execute_result"
    },
    {
     "data": {
      "image/png": "[encoded data removed]",
      "text/plain": [
       "<Figure size 432x288 with 1 Axes>"
      ]
     },
     "metadata": {
      "needs_background": "light"
     },
     "output_type": "display_data"
    }
   ],
   "source": [
    "# Plotting the feature importance for Top 10 most important columns\n",
    "%matplotlib inline\n",
    "feature_importances = pd.Series(clf.feature_importances_, index=Feature_names)\n",
    "feature_importances.nlargest(10).plot(kind='barh')\n",
    "\n"
   ]
  },
  {
   "cell_type": "code",
   "execution_count": 13,
   "metadata": {},
   "outputs": [
    {
     "data": {
      "text/plain": [
       "0.8859314616231158"
      ]
     },
     "execution_count": 13,
     "metadata": {},
     "output_type": "execute_result"
    }
   ],
   "source": [
    "clf.score(X_train,y_train)\n",
    "#Return the mean accuracy on the given test data and labels."
   ]
  },
  {
   "cell_type": "code",
   "execution_count": 14,
   "metadata": {},
   "outputs": [
    {
     "data": {
      "text/plain": [
       "0.8870918210666394"
      ]
     },
     "execution_count": 14,
     "metadata": {},
     "output_type": "execute_result"
    }
   ],
   "source": [
    "clf.score(X_test,y_test)"
   ]
  },
  {
   "cell_type": "code",
   "execution_count": 15,
   "metadata": {
    "scrolled": true
   },
   "outputs": [
    {
     "data": {
      "image/png": "[encoded data removed]",
      "text/plain": [
       "<Figure size 432x288 with 1 Axes>"
      ]
     },
     "metadata": {
      "needs_background": "light"
     },
     "output_type": "display_data"
    }
   ],
   "source": [
    "\n",
    "xgb.plot_importance(clf,importance_type='gain',max_num_features=10)\n",
    "plt.title(\"xgboost.plot_importance(model)\")\n",
    "plt.show()"
   ]
  },
  {
   "cell_type": "code",
   "execution_count": 16,
   "metadata": {},
   "outputs": [
    {
     "data": {
      "text/plain": [
       "array([0.02877337, 0.01615754, 0.00810598, 0.00659226, 0.16716744,\n",
       "       0.10229656, 0.03143917, 0.4040014 , 0.01056495, 0.02722162,\n",
       "       0.10932317, 0.0510054 , 0.02668143, 0.0106696 ], dtype=float32)"
      ]
     },
     "execution_count": 16,
     "metadata": {},
     "output_type": "execute_result"
    }
   ],
   "source": [
    "clf.feature_importances_"
   ]
  },
  {
   "cell_type": "code",
   "execution_count": 17,
   "metadata": {},
   "outputs": [
    {
     "data": {
      "text/plain": [
       "array([0, 0, 0, ..., 0, 0, 1])"
      ]
     },
     "execution_count": 17,
     "metadata": {},
     "output_type": "execute_result"
    }
   ],
   "source": [
    "clf.predict(X)\n"
   ]
  },
  {
   "cell_type": "code",
   "execution_count": 18,
   "metadata": {},
   "outputs": [
    {
     "data": {
      "text/plain": [
       "0.19849719503705826"
      ]
     },
     "execution_count": 18,
     "metadata": {},
     "output_type": "execute_result"
    }
   ],
   "source": [
    "sum(clf.predict(X))/len(X)"
   ]
  },
  {
   "cell_type": "code",
   "execution_count": 19,
   "metadata": {},
   "outputs": [
    {
     "data": {
      "text/plain": [
       "array([[0.99842083, 0.00157919],\n",
       "       [0.75746095, 0.24253902],\n",
       "       [0.67697227, 0.32302776],\n",
       "       ...,\n",
       "       [0.95281667, 0.04718334],\n",
       "       [0.9986092 , 0.00139079],\n",
       "       [0.00162375, 0.99837625]], dtype=float32)"
      ]
     },
     "execution_count": 19,
     "metadata": {},
     "output_type": "execute_result"
    }
   ],
   "source": [
    "clf.predict_proba(X)"
   ]
  },
  {
   "cell_type": "code",
   "execution_count": null,
   "metadata": {},
   "outputs": [],
   "source": []
  },
  {
   "cell_type": "markdown",
   "metadata": {},
   "source": [
    "# SHAP"
   ]
  },
  {
   "cell_type": "code",
   "execution_count": 20,
   "metadata": {},
   "outputs": [],
   "source": [
    "import shap\n"
   ]
  },
  {
   "cell_type": "code",
   "execution_count": 21,
   "metadata": {},
   "outputs": [
    {
     "name": "stderr",
     "output_type": "stream",
     "text": [
      "ntree_limit is deprecated, use `iteration_range` or model slicing instead.\n"
     ]
    },
    {
     "data": {
      "text/plain": [
       "(48842, 14)"
      ]
     },
     "execution_count": 21,
     "metadata": {},
     "output_type": "execute_result"
    }
   ],
   "source": [
    "explainer = shap.TreeExplainer(clf)\n",
    "shap_values = explainer.shap_values(X)\n",
    "np.shape(shap_values)\n",
    "\n",
    "### TreeExplainer fonctionne plus vite que Explainer normal\n",
    "### Warning ..je ne comprends pas"
   ]
  },
  {
   "cell_type": "code",
   "execution_count": 22,
   "metadata": {},
   "outputs": [],
   "source": [
    "    #explainer = shap.Explainer(clf, X)\n",
    "    #shap_values = explainer.shap_values(X)\n",
    "    #np.shape(shap_values)\n",
    "\n",
    "## lent\n",
    "## et le resultat est un peu different"
   ]
  },
  {
   "cell_type": "code",
   "execution_count": 23,
   "metadata": {},
   "outputs": [],
   "source": [
    "#shap_values"
   ]
  },
  {
   "cell_type": "code",
   "execution_count": 24,
   "metadata": {},
   "outputs": [
    {
     "data": {
      "text/plain": [
       "array([[-7.56588995e-01, -3.00338008e-02, -7.15182628e-04, ...,\n",
       "        -3.57434452e-02, -2.12158069e-01, -7.67110940e-03],\n",
       "       [ 2.08615437e-01,  4.40706983e-02, -1.59149796e-01, ...,\n",
       "        -6.29586279e-02,  3.94673973e-01,  6.89600303e-04],\n",
       "       [-6.80235922e-01,  3.49187963e-02,  1.02556154e-01, ...,\n",
       "        -9.03628320e-02, -3.39347497e-02,  1.31740337e-02],\n",
       "       ...,\n",
       "       [ 6.83060944e-01,  3.38918157e-02,  6.00095913e-02, ...,\n",
       "        -3.24765965e-02, -7.61530548e-02,  1.48379114e-02],\n",
       "       [-1.97546387e+00, -7.52909295e-03, -8.92539471e-02, ...,\n",
       "        -5.25475293e-02, -8.31365526e-01, -1.18225608e-02],\n",
       "       [ 5.61087132e-01,  2.17882410e-01,  1.70776043e-02, ...,\n",
       "        -3.06443106e-02,  1.03383683e-01,  7.39771081e-03]], dtype=float32)"
      ]
     },
     "execution_count": 24,
     "metadata": {},
     "output_type": "execute_result"
    }
   ],
   "source": [
    "shap_values"
   ]
  },
  {
   "cell_type": "code",
   "execution_count": 25,
   "metadata": {},
   "outputs": [
    {
     "data": {
      "image/png": "[encoded data removed]",
      "text/plain": [
       "<Figure size 576x511.2 with 1 Axes>"
      ]
     },
     "metadata": {
      "needs_background": "light"
     },
     "output_type": "display_data"
    }
   ],
   "source": [
    "shap.summary_plot(shap_values,X,plot_type=\"bar\")"
   ]
  },
  {
   "cell_type": "code",
   "execution_count": 26,
   "metadata": {},
   "outputs": [],
   "source": [
    "#shap.summary_plot(shap_values,X,plot_type=\"bar\")"
   ]
  },
  {
   "cell_type": "markdown",
   "metadata": {},
   "source": [
    "# 1. Clustering dans l'espace d'explicqtion (choisit 5 features, si on choisit 2, le résultat est très mal)\n",
    "\n",
    "\n"
   ]
  },
  {
   "cell_type": "code",
   "execution_count": 27,
   "metadata": {},
   "outputs": [
    {
     "name": "stdout",
     "output_type": "stream",
     "text": [
      "(array([7], dtype=int64),)\n",
      "(array([0], dtype=int64),)\n",
      "(array([5], dtype=int64),)\n",
      "(array([10], dtype=int64),)\n",
      "(array([4], dtype=int64),)\n"
     ]
    }
   ],
   "source": [
    "print(np.where(X.columns=='relationship'))\n",
    "print(np.where(X.columns=='age'))\n",
    "print(np.where(X.columns=='marital-status'))\n",
    "print(np.where(X.columns=='capital-gain'))\n",
    "print(np.where(X.columns=='educational-num'))"
   ]
  },
  {
   "cell_type": "code",
   "execution_count": 28,
   "metadata": {},
   "outputs": [],
   "source": [
    "a=pd.DataFrame()\n",
    "feature1='relationship'\n",
    "feature2='age'\n",
    "feature3='marital-status'\n",
    "feature4='capital-gain'\n",
    "feature5='educational-num'\n",
    "\n",
    "feature_for_cluster=[feature1,feature2,feature3,feature4,feature5]\n",
    "\n",
    "shapfeature1='shap 1'\n",
    "shapfeature2='shap 2'\n",
    "shapfeature3='shap 3'\n",
    "shapfeature4='shap 4'\n",
    "shapfeature5='shap 5'\n",
    "\n",
    "shap_feature=[shapfeature1,shapfeature2,shapfeature3,shapfeature4,shapfeature5]\n",
    "\n",
    "\n",
    "a[shapfeature1]=shap_values[:,7]\n",
    "a[shapfeature2]=shap_values[:,0]\n",
    "a[shapfeature3]=shap_values[:,5]\n",
    "a[shapfeature4]=shap_values[:,10]\n",
    "a[shapfeature5]=shap_values[:,4]\n",
    "\n"
   ]
  },
  {
   "cell_type": "code",
   "execution_count": 29,
   "metadata": {},
   "outputs": [
    {
     "name": "stdout",
     "output_type": "stream",
     "text": [
      "['relationship', 'age', 'marital-status', 'capital-gain', 'educational-num']\n"
     ]
    },
    {
     "data": {
      "text/html": [
       "<div>\n",
       "<style scoped>\n",
       "    .dataframe tbody tr th:only-of-type {\n",
       "        vertical-align: middle;\n",
       "    }\n",
       "\n",
       "    .dataframe tbody tr th {\n",
       "        vertical-align: top;\n",
       "    }\n",
       "\n",
       "    .dataframe thead th {\n",
       "        text-align: right;\n",
       "    }\n",
       "</style>\n",
       "<table border=\"1\" class=\"dataframe\">\n",
       "  <thead>\n",
       "    <tr style=\"text-align: right;\">\n",
       "      <th></th>\n",
       "      <th>shap 1</th>\n",
       "      <th>shap 2</th>\n",
       "      <th>shap 3</th>\n",
       "      <th>shap 4</th>\n",
       "      <th>shap 5</th>\n",
       "    </tr>\n",
       "  </thead>\n",
       "  <tbody>\n",
       "    <tr>\n",
       "      <th>0</th>\n",
       "      <td>-0.746526</td>\n",
       "      <td>-0.756589</td>\n",
       "      <td>-1.324965</td>\n",
       "      <td>-0.138923</td>\n",
       "      <td>-0.796278</td>\n",
       "    </tr>\n",
       "    <tr>\n",
       "      <th>1</th>\n",
       "      <td>0.628899</td>\n",
       "      <td>0.208615</td>\n",
       "      <td>0.343855</td>\n",
       "      <td>-0.153568</td>\n",
       "      <td>-0.322127</td>\n",
       "    </tr>\n",
       "    <tr>\n",
       "      <th>2</th>\n",
       "      <td>0.655039</td>\n",
       "      <td>-0.680236</td>\n",
       "      <td>0.332912</td>\n",
       "      <td>-0.182349</td>\n",
       "      <td>0.070991</td>\n",
       "    </tr>\n",
       "    <tr>\n",
       "      <th>3</th>\n",
       "      <td>0.727325</td>\n",
       "      <td>0.618562</td>\n",
       "      <td>0.474963</td>\n",
       "      <td>6.433123</td>\n",
       "      <td>0.042944</td>\n",
       "    </tr>\n",
       "    <tr>\n",
       "      <th>4</th>\n",
       "      <td>-0.834964</td>\n",
       "      <td>-2.963867</td>\n",
       "      <td>-1.011263</td>\n",
       "      <td>-0.135160</td>\n",
       "      <td>-0.046076</td>\n",
       "    </tr>\n",
       "    <tr>\n",
       "      <th>...</th>\n",
       "      <td>...</td>\n",
       "      <td>...</td>\n",
       "      <td>...</td>\n",
       "      <td>...</td>\n",
       "      <td>...</td>\n",
       "    </tr>\n",
       "    <tr>\n",
       "      <th>48837</th>\n",
       "      <td>1.287494</td>\n",
       "      <td>-0.673055</td>\n",
       "      <td>0.451879</td>\n",
       "      <td>-0.116749</td>\n",
       "      <td>0.277450</td>\n",
       "    </tr>\n",
       "    <tr>\n",
       "      <th>48838</th>\n",
       "      <td>0.669913</td>\n",
       "      <td>0.210145</td>\n",
       "      <td>0.396279</td>\n",
       "      <td>-0.157713</td>\n",
       "      <td>-0.384932</td>\n",
       "    </tr>\n",
       "    <tr>\n",
       "      <th>48839</th>\n",
       "      <td>-0.749946</td>\n",
       "      <td>0.683061</td>\n",
       "      <td>-0.402750</td>\n",
       "      <td>-0.124145</td>\n",
       "      <td>-0.340541</td>\n",
       "    </tr>\n",
       "    <tr>\n",
       "      <th>48840</th>\n",
       "      <td>-0.652530</td>\n",
       "      <td>-1.975464</td>\n",
       "      <td>-1.004368</td>\n",
       "      <td>-0.140771</td>\n",
       "      <td>-0.244613</td>\n",
       "    </tr>\n",
       "    <tr>\n",
       "      <th>48841</th>\n",
       "      <td>0.351109</td>\n",
       "      <td>0.561087</td>\n",
       "      <td>0.280090</td>\n",
       "      <td>6.433932</td>\n",
       "      <td>-0.326827</td>\n",
       "    </tr>\n",
       "  </tbody>\n",
       "</table>\n",
       "<p>48842 rows × 5 columns</p>\n",
       "</div>"
      ],
      "text/plain": [
       "         shap 1    shap 2    shap 3    shap 4    shap 5\n",
       "0     -0.746526 -0.756589 -1.324965 -0.138923 -0.796278\n",
       "1      0.628899  0.208615  0.343855 -0.153568 -0.322127\n",
       "2      0.655039 -0.680236  0.332912 -0.182349  0.070991\n",
       "3      0.727325  0.618562  0.474963  6.433123  0.042944\n",
       "4     -0.834964 -2.963867 -1.011263 -0.135160 -0.046076\n",
       "...         ...       ...       ...       ...       ...\n",
       "48837  1.287494 -0.673055  0.451879 -0.116749  0.277450\n",
       "48838  0.669913  0.210145  0.396279 -0.157713 -0.384932\n",
       "48839 -0.749946  0.683061 -0.402750 -0.124145 -0.340541\n",
       "48840 -0.652530 -1.975464 -1.004368 -0.140771 -0.244613\n",
       "48841  0.351109  0.561087  0.280090  6.433932 -0.326827\n",
       "\n",
       "[48842 rows x 5 columns]"
      ]
     },
     "execution_count": 29,
     "metadata": {},
     "output_type": "execute_result"
    }
   ],
   "source": [
    "print(feature_for_cluster)\n",
    "a"
   ]
  },
  {
   "cell_type": "code",
   "execution_count": 30,
   "metadata": {},
   "outputs": [],
   "source": [
    "\n",
    "from sklearn.cluster import KMeans\n",
    "import time\n",
    "\n",
    "kmeans = KMeans(n_clusters=2, random_state=(int)(time.time()))\n",
    "\n",
    "Cluster=kmeans.fit_predict(a[shap_feature])\n",
    "\n",
    "#colors = ['#DF2020', '#81DF20']\n",
    "#a['c'] = a.cluster.map({0:colors[0], 1:colors[1]})\n",
    "\n",
    "#plt.scatter(a[shapfeature1],a[shapfeature2], c=a.c, alpha = 0.6, s=10)"
   ]
  },
  {
   "cell_type": "code",
   "execution_count": 31,
   "metadata": {},
   "outputs": [
    {
     "data": {
      "text/html": [
       "<div>\n",
       "<style scoped>\n",
       "    .dataframe tbody tr th:only-of-type {\n",
       "        vertical-align: middle;\n",
       "    }\n",
       "\n",
       "    .dataframe tbody tr th {\n",
       "        vertical-align: top;\n",
       "    }\n",
       "\n",
       "    .dataframe thead th {\n",
       "        text-align: right;\n",
       "    }\n",
       "</style>\n",
       "<table border=\"1\" class=\"dataframe\">\n",
       "  <thead>\n",
       "    <tr style=\"text-align: right;\">\n",
       "      <th></th>\n",
       "      <th>relationship</th>\n",
       "      <th>age</th>\n",
       "      <th>marital-status</th>\n",
       "      <th>capital-gain</th>\n",
       "      <th>educational-num</th>\n",
       "    </tr>\n",
       "  </thead>\n",
       "  <tbody>\n",
       "    <tr>\n",
       "      <th>0</th>\n",
       "      <td>3</td>\n",
       "      <td>25</td>\n",
       "      <td>4</td>\n",
       "      <td>0</td>\n",
       "      <td>7</td>\n",
       "    </tr>\n",
       "    <tr>\n",
       "      <th>1</th>\n",
       "      <td>0</td>\n",
       "      <td>38</td>\n",
       "      <td>2</td>\n",
       "      <td>0</td>\n",
       "      <td>9</td>\n",
       "    </tr>\n",
       "    <tr>\n",
       "      <th>2</th>\n",
       "      <td>0</td>\n",
       "      <td>28</td>\n",
       "      <td>2</td>\n",
       "      <td>0</td>\n",
       "      <td>12</td>\n",
       "    </tr>\n",
       "    <tr>\n",
       "      <th>3</th>\n",
       "      <td>0</td>\n",
       "      <td>44</td>\n",
       "      <td>2</td>\n",
       "      <td>7688</td>\n",
       "      <td>10</td>\n",
       "    </tr>\n",
       "    <tr>\n",
       "      <th>4</th>\n",
       "      <td>3</td>\n",
       "      <td>18</td>\n",
       "      <td>4</td>\n",
       "      <td>0</td>\n",
       "      <td>10</td>\n",
       "    </tr>\n",
       "    <tr>\n",
       "      <th>...</th>\n",
       "      <td>...</td>\n",
       "      <td>...</td>\n",
       "      <td>...</td>\n",
       "      <td>...</td>\n",
       "      <td>...</td>\n",
       "    </tr>\n",
       "    <tr>\n",
       "      <th>48837</th>\n",
       "      <td>5</td>\n",
       "      <td>27</td>\n",
       "      <td>2</td>\n",
       "      <td>0</td>\n",
       "      <td>12</td>\n",
       "    </tr>\n",
       "    <tr>\n",
       "      <th>48838</th>\n",
       "      <td>0</td>\n",
       "      <td>40</td>\n",
       "      <td>2</td>\n",
       "      <td>0</td>\n",
       "      <td>9</td>\n",
       "    </tr>\n",
       "    <tr>\n",
       "      <th>48839</th>\n",
       "      <td>4</td>\n",
       "      <td>58</td>\n",
       "      <td>6</td>\n",
       "      <td>0</td>\n",
       "      <td>9</td>\n",
       "    </tr>\n",
       "    <tr>\n",
       "      <th>48840</th>\n",
       "      <td>3</td>\n",
       "      <td>22</td>\n",
       "      <td>4</td>\n",
       "      <td>0</td>\n",
       "      <td>9</td>\n",
       "    </tr>\n",
       "    <tr>\n",
       "      <th>48841</th>\n",
       "      <td>5</td>\n",
       "      <td>52</td>\n",
       "      <td>2</td>\n",
       "      <td>15024</td>\n",
       "      <td>9</td>\n",
       "    </tr>\n",
       "  </tbody>\n",
       "</table>\n",
       "<p>48842 rows × 5 columns</p>\n",
       "</div>"
      ],
      "text/plain": [
       "       relationship  age  marital-status  capital-gain  educational-num\n",
       "0                 3   25               4             0                7\n",
       "1                 0   38               2             0                9\n",
       "2                 0   28               2             0               12\n",
       "3                 0   44               2          7688               10\n",
       "4                 3   18               4             0               10\n",
       "...             ...  ...             ...           ...              ...\n",
       "48837             5   27               2             0               12\n",
       "48838             0   40               2             0                9\n",
       "48839             4   58               6             0                9\n",
       "48840             3   22               4             0                9\n",
       "48841             5   52               2         15024                9\n",
       "\n",
       "[48842 rows x 5 columns]"
      ]
     },
     "execution_count": 31,
     "metadata": {},
     "output_type": "execute_result"
    }
   ],
   "source": [
    "X_new = pd.DataFrame()\n",
    "for i in feature_for_cluster:\n",
    "    X_new[i]=X[i]\n",
    "\n",
    "X_new\n",
    "#plt.scatter(X_new[feature1],X_new[feature2], c=a.c, alpha = 0.6, s=10)"
   ]
  },
  {
   "cell_type": "markdown",
   "metadata": {},
   "source": [
    "# Skope-rules"
   ]
  },
  {
   "cell_type": "code",
   "execution_count": 32,
   "metadata": {},
   "outputs": [
    {
     "name": "stdout",
     "output_type": "stream",
     "text": [
      "Rules\n",
      "age <= 85.5 and capital-gain > 7073.5\n",
      "age > 61.5 and capital-gain > 7055.5\n",
      "relationship <= 0.5 and capital-gain <= 7055.5 and capital-gain > 5095.5\n",
      "capital-gain <= 5316.5 and capital-gain > 5119.0\n",
      "\n",
      "====================\n",
      "\n"
     ]
    }
   ],
   "source": [
    "import six\n",
    "import sys\n",
    "sys.modules['sklearn.externals.six'] = six\n",
    "from skrules import SkopeRules\n",
    "\n",
    "\n",
    "skp = SkopeRules(\n",
    "                 max_depth=3,\n",
    "                 max_depth_duplication=2,\n",
    "                 n_estimators=30,\n",
    "                 precision_min=0.3,\n",
    "                 recall_min=0.05,\n",
    "                 feature_names=feature_for_cluster)\n",
    " \n",
    "skp.fit(X_new, Cluster)\n",
    "rules = skp.rules_\n",
    "print(\"Rules\")\n",
    "for rule in rules:\n",
    "    print(rule[0])\n",
    "print()\n",
    "print(20*'=')\n",
    "print()"
   ]
  },
  {
   "cell_type": "code",
   "execution_count": 33,
   "metadata": {
    "scrolled": true
   },
   "outputs": [],
   "source": [
    "#for i in skp.rules_:\n",
    "#    print(\"rule:\" ,i[0])\n",
    "#    print(\"precision:\",i[1][0])\n",
    "#    print(\"recall:\", i[1][1])\n",
    "#    print()\n",
    "##(dict of tuples (rule, precision, recall, nb).)"
   ]
  },
  {
   "cell_type": "code",
   "execution_count": 34,
   "metadata": {},
   "outputs": [],
   "source": [
    "#skp.predict(X_new)==clf.predict(X)"
   ]
  },
  {
   "cell_type": "code",
   "execution_count": 35,
   "metadata": {},
   "outputs": [
    {
     "name": "stdout",
     "output_type": "stream",
     "text": [
      "error rate: 0.1539658490643299\n"
     ]
    }
   ],
   "source": [
    "err=0\n",
    "for i in skp.predict(X_new)==clf.predict(X):\n",
    "    if i==False:\n",
    "        err=err+1\n",
    "print(\"error rate:\",err/len(X))"
   ]
  },
  {
   "cell_type": "code",
   "execution_count": 36,
   "metadata": {},
   "outputs": [
    {
     "data": {
      "text/plain": [
       "0.19849719503705826"
      ]
     },
     "execution_count": 36,
     "metadata": {},
     "output_type": "execute_result"
    }
   ],
   "source": [
    "sum(clf.predict(X))/len(X)"
   ]
  },
  {
   "cell_type": "code",
   "execution_count": 37,
   "metadata": {},
   "outputs": [
    {
     "data": {
      "text/plain": [
       "0.0476638958273617"
      ]
     },
     "execution_count": 37,
     "metadata": {},
     "output_type": "execute_result"
    }
   ],
   "source": [
    "sum(Cluster)/len(X)"
   ]
  },
  {
   "cell_type": "code",
   "execution_count": 38,
   "metadata": {
    "scrolled": true
   },
   "outputs": [
    {
     "data": {
      "text/plain": [
       "0.04584169362433971"
      ]
     },
     "execution_count": 38,
     "metadata": {},
     "output_type": "execute_result"
    }
   ],
   "source": [
    "sum(skp.predict(X_new))/len(X_new)"
   ]
  },
  {
   "cell_type": "markdown",
   "metadata": {},
   "source": [
    "# 2. Clustering dans l'espace d'explication, par PCA, réduction de dimention. Et visualisation"
   ]
  },
  {
   "cell_type": "code",
   "execution_count": 39,
   "metadata": {},
   "outputs": [],
   "source": [
    "from sklearn.decomposition import PCA\n"
   ]
  },
  {
   "cell_type": "code",
   "execution_count": 40,
   "metadata": {},
   "outputs": [],
   "source": [
    "pca = PCA(n_components=2)"
   ]
  },
  {
   "cell_type": "code",
   "execution_count": 41,
   "metadata": {},
   "outputs": [],
   "source": [
    "shap_redu=pca.fit_transform(shap_values)"
   ]
  },
  {
   "cell_type": "code",
   "execution_count": 42,
   "metadata": {},
   "outputs": [
    {
     "data": {
      "text/plain": [
       "array([[-0.6880721 ,  1.0141326 ],\n",
       "       [ 0.09416515, -0.9975932 ],\n",
       "       [-0.0813852 , -0.44484758],\n",
       "       ...,\n",
       "       [-0.09475116, -0.44861394],\n",
       "       [-0.8965589 ,  1.7161828 ],\n",
       "       [ 6.3243356 ,  1.1683556 ]], dtype=float32)"
      ]
     },
     "execution_count": 42,
     "metadata": {},
     "output_type": "execute_result"
    }
   ],
   "source": [
    "shap_redu"
   ]
  },
  {
   "cell_type": "markdown",
   "metadata": {},
   "source": [
    "## cluster"
   ]
  },
  {
   "cell_type": "code",
   "execution_count": 43,
   "metadata": {},
   "outputs": [],
   "source": [
    "b=pd.DataFrame()\n",
    "b['shap 0']=shap_redu[:,0]\n",
    "b['shap 1']=shap_redu[:,1]\n"
   ]
  },
  {
   "cell_type": "code",
   "execution_count": 44,
   "metadata": {},
   "outputs": [
    {
     "data": {
      "text/plain": [
       "<matplotlib.collections.PathCollection at 0x1cf3fd57670>"
      ]
     },
     "execution_count": 44,
     "metadata": {},
     "output_type": "execute_result"
    },
    {
     "data": {
      "image/png": "[encoded data removed]",
      "text/plain": [
       "<Figure size 432x288 with 1 Axes>"
      ]
     },
     "metadata": {
      "needs_background": "light"
     },
     "output_type": "display_data"
    }
   ],
   "source": [
    "kmeans = KMeans(n_clusters=2, random_state=(int)(time.time()))\n",
    "\n",
    "b['cluster']=kmeans.fit_predict(b[['shap 0','shap 1']])\n",
    "\n",
    "\n",
    "colors = ['#DF2020', '#81DF20']\n",
    "C = b['cluster'].map({0:colors[0], 1:colors[1]})\n",
    "\n",
    "plt.scatter(shap_redu[:,0],shap_redu[:,1], c=C, alpha = 0.6, s=10)\n"
   ]
  },
  {
   "cell_type": "code",
   "execution_count": 45,
   "metadata": {},
   "outputs": [
    {
     "data": {
      "text/plain": [
       "True"
      ]
     },
     "execution_count": 45,
     "metadata": {},
     "output_type": "execute_result"
    }
   ],
   "source": [
    "b['cluster'].all()==Cluster.all()"
   ]
  },
  {
   "cell_type": "markdown",
   "metadata": {},
   "source": [
    "## le résultat est même que 1"
   ]
  },
  {
   "cell_type": "markdown",
   "metadata": {},
   "source": [
    "## skope-rules"
   ]
  },
  {
   "cell_type": "code",
   "execution_count": 46,
   "metadata": {},
   "outputs": [],
   "source": [
    "\n",
    "skp_r = SkopeRules(\n",
    "                 max_depth=3,\n",
    "                 max_depth_duplication=2,\n",
    "                 n_estimators=30,\n",
    "                 precision_min=0.3,\n",
    "                 recall_min=0.05,\n",
    "                 feature_names=Feature_names)\n"
   ]
  },
  {
   "cell_type": "code",
   "execution_count": 47,
   "metadata": {},
   "outputs": [
    {
     "data": {
      "text/plain": [
       "SkopeRules(feature_names=array(['age', 'workclass', 'fnlwgt', 'education', 'educational-num',\n",
       "       'marital-status', 'occupation', 'relationship', 'race', 'gender',\n",
       "       'capital-gain', 'capital-loss', 'hours-per-week', 'native-country'],\n",
       "      dtype=object),\n",
       "           max_depth_duplication=2, n_estimators=30, precision_min=0.3,\n",
       "           recall_min=0.05)"
      ]
     },
     "execution_count": 47,
     "metadata": {},
     "output_type": "execute_result"
    }
   ],
   "source": [
    "skp_r.fit(X, b['cluster'])\n"
   ]
  },
  {
   "cell_type": "code",
   "execution_count": 48,
   "metadata": {},
   "outputs": [
    {
     "name": "stdout",
     "output_type": "stream",
     "text": [
      "Rules\n",
      "capital-gain > 7055.5 and educational-num > 4.5\n",
      "age <= 86.5 and capital-gain > 7055.5\n",
      "age > 61.5 and capital-gain > 7073.5\n",
      "capital-gain <= 7055.5 and capital-gain > 5119.0 and relationship <= 0.5\n",
      "capital-gain <= 5316.5 and capital-gain > 5119.0\n",
      "\n",
      "====================\n",
      "\n"
     ]
    }
   ],
   "source": [
    "print(\"Rules\")\n",
    "for rule in skp_r.rules_:\n",
    "    print(rule[0])\n",
    "print()\n",
    "print(20*'=')\n",
    "print()"
   ]
  },
  {
   "cell_type": "code",
   "execution_count": 49,
   "metadata": {
    "scrolled": true
   },
   "outputs": [],
   "source": [
    "#for i in skp_r.rules_:\n",
    "#    print(\"rule:\" ,i[0])\n",
    "#    print(\"precision:\",i[1][0])\n",
    "#    print(\"recall:\", i[1][1])\n",
    "#    print()"
   ]
  },
  {
   "cell_type": "code",
   "execution_count": 50,
   "metadata": {},
   "outputs": [
    {
     "name": "stdout",
     "output_type": "stream",
     "text": [
      "error rate: 0.1539658490643299\n"
     ]
    }
   ],
   "source": [
    "err_r=0\n",
    "for i in skp_r.predict(X)==clf.predict(X):\n",
    "    if i==False:\n",
    "        err_r=err_r+1\n",
    "print(\"error rate:\",err_r/len(X))"
   ]
  },
  {
   "cell_type": "markdown",
   "metadata": {},
   "source": [
    "# 3. Comparison, si on fait le clustering dans l'espace de variable, choisit encore les 5 features, pour le clustering il faut normalisation. Quand on obient le resultat de cluster, on fait skope sur les donnee bruts"
   ]
  },
  {
   "cell_type": "code",
   "execution_count": 51,
   "metadata": {},
   "outputs": [
    {
     "data": {
      "text/html": [
       "<div>\n",
       "<style scoped>\n",
       "    .dataframe tbody tr th:only-of-type {\n",
       "        vertical-align: middle;\n",
       "    }\n",
       "\n",
       "    .dataframe tbody tr th {\n",
       "        vertical-align: top;\n",
       "    }\n",
       "\n",
       "    .dataframe thead th {\n",
       "        text-align: right;\n",
       "    }\n",
       "</style>\n",
       "<table border=\"1\" class=\"dataframe\">\n",
       "  <thead>\n",
       "    <tr style=\"text-align: right;\">\n",
       "      <th></th>\n",
       "      <th>relationship</th>\n",
       "      <th>age</th>\n",
       "      <th>marital-status</th>\n",
       "      <th>capital-gain</th>\n",
       "      <th>educational-num</th>\n",
       "    </tr>\n",
       "  </thead>\n",
       "  <tbody>\n",
       "    <tr>\n",
       "      <th>0</th>\n",
       "      <td>0.6</td>\n",
       "      <td>0.109589</td>\n",
       "      <td>0.666667</td>\n",
       "      <td>0.000000</td>\n",
       "      <td>0.400000</td>\n",
       "    </tr>\n",
       "    <tr>\n",
       "      <th>1</th>\n",
       "      <td>0.0</td>\n",
       "      <td>0.287671</td>\n",
       "      <td>0.333333</td>\n",
       "      <td>0.000000</td>\n",
       "      <td>0.533333</td>\n",
       "    </tr>\n",
       "    <tr>\n",
       "      <th>2</th>\n",
       "      <td>0.0</td>\n",
       "      <td>0.150685</td>\n",
       "      <td>0.333333</td>\n",
       "      <td>0.000000</td>\n",
       "      <td>0.733333</td>\n",
       "    </tr>\n",
       "    <tr>\n",
       "      <th>3</th>\n",
       "      <td>0.0</td>\n",
       "      <td>0.369863</td>\n",
       "      <td>0.333333</td>\n",
       "      <td>0.076881</td>\n",
       "      <td>0.600000</td>\n",
       "    </tr>\n",
       "    <tr>\n",
       "      <th>4</th>\n",
       "      <td>0.6</td>\n",
       "      <td>0.013699</td>\n",
       "      <td>0.666667</td>\n",
       "      <td>0.000000</td>\n",
       "      <td>0.600000</td>\n",
       "    </tr>\n",
       "    <tr>\n",
       "      <th>...</th>\n",
       "      <td>...</td>\n",
       "      <td>...</td>\n",
       "      <td>...</td>\n",
       "      <td>...</td>\n",
       "      <td>...</td>\n",
       "    </tr>\n",
       "    <tr>\n",
       "      <th>48837</th>\n",
       "      <td>1.0</td>\n",
       "      <td>0.136986</td>\n",
       "      <td>0.333333</td>\n",
       "      <td>0.000000</td>\n",
       "      <td>0.733333</td>\n",
       "    </tr>\n",
       "    <tr>\n",
       "      <th>48838</th>\n",
       "      <td>0.0</td>\n",
       "      <td>0.315068</td>\n",
       "      <td>0.333333</td>\n",
       "      <td>0.000000</td>\n",
       "      <td>0.533333</td>\n",
       "    </tr>\n",
       "    <tr>\n",
       "      <th>48839</th>\n",
       "      <td>0.8</td>\n",
       "      <td>0.561644</td>\n",
       "      <td>1.000000</td>\n",
       "      <td>0.000000</td>\n",
       "      <td>0.533333</td>\n",
       "    </tr>\n",
       "    <tr>\n",
       "      <th>48840</th>\n",
       "      <td>0.6</td>\n",
       "      <td>0.068493</td>\n",
       "      <td>0.666667</td>\n",
       "      <td>0.000000</td>\n",
       "      <td>0.533333</td>\n",
       "    </tr>\n",
       "    <tr>\n",
       "      <th>48841</th>\n",
       "      <td>1.0</td>\n",
       "      <td>0.479452</td>\n",
       "      <td>0.333333</td>\n",
       "      <td>0.150242</td>\n",
       "      <td>0.533333</td>\n",
       "    </tr>\n",
       "  </tbody>\n",
       "</table>\n",
       "<p>48842 rows × 5 columns</p>\n",
       "</div>"
      ],
      "text/plain": [
       "       relationship       age  marital-status  capital-gain  educational-num\n",
       "0               0.6  0.109589        0.666667      0.000000         0.400000\n",
       "1               0.0  0.287671        0.333333      0.000000         0.533333\n",
       "2               0.0  0.150685        0.333333      0.000000         0.733333\n",
       "3               0.0  0.369863        0.333333      0.076881         0.600000\n",
       "4               0.6  0.013699        0.666667      0.000000         0.600000\n",
       "...             ...       ...             ...           ...              ...\n",
       "48837           1.0  0.136986        0.333333      0.000000         0.733333\n",
       "48838           0.0  0.315068        0.333333      0.000000         0.533333\n",
       "48839           0.8  0.561644        1.000000      0.000000         0.533333\n",
       "48840           0.6  0.068493        0.666667      0.000000         0.533333\n",
       "48841           1.0  0.479452        0.333333      0.150242         0.533333\n",
       "\n",
       "[48842 rows x 5 columns]"
      ]
     },
     "execution_count": 51,
     "metadata": {},
     "output_type": "execute_result"
    }
   ],
   "source": [
    "from sklearn.preprocessing import StandardScaler, MinMaxScaler\n",
    "\n",
    "#PredictorScaler=StandardScaler()\n",
    "PredictorScaler=MinMaxScaler()\n",
    "\n",
    "\n",
    "PredictorScalerFit=PredictorScaler.fit(X_new)\n",
    "_norm=PredictorScalerFit.transform(X_new)\n",
    "X_norm=pd.DataFrame()\n",
    "X_norm[feature1]=_norm[:,0]\n",
    "X_norm[feature2]=_norm[:,1]\n",
    "X_norm[feature3]=_norm[:,2]\n",
    "X_norm[feature4]=_norm[:,3]\n",
    "X_norm[feature5]=_norm[:,4]\n",
    "\n",
    "X_norm"
   ]
  },
  {
   "cell_type": "code",
   "execution_count": 52,
   "metadata": {},
   "outputs": [],
   "source": [
    "\n",
    "kmeans = KMeans(n_clusters=2, random_state=(int)(time.time()))\n",
    "\n",
    "Cluster2=kmeans.fit_predict(X_norm[feature_for_cluster])\n",
    "\n",
    "\n"
   ]
  },
  {
   "cell_type": "code",
   "execution_count": 53,
   "metadata": {},
   "outputs": [],
   "source": [
    "if sum(Cluster2)>len(X)/2:\n",
    "    Cluster2=1-Cluster2"
   ]
  },
  {
   "cell_type": "code",
   "execution_count": 54,
   "metadata": {},
   "outputs": [],
   "source": [
    "\n",
    "skp2 = SkopeRules(\n",
    "                 max_depth=3,\n",
    "                 max_depth_duplication=2,\n",
    "                 n_estimators=30,\n",
    "                 precision_min=0.3,\n",
    "                 recall_min=0.01,\n",
    "                 feature_names=feature_for_cluster)\n",
    " "
   ]
  },
  {
   "cell_type": "code",
   "execution_count": null,
   "metadata": {},
   "outputs": [],
   "source": [
    "skp2.fit(X_new, Cluster2)\n"
   ]
  },
  {
   "cell_type": "code",
   "execution_count": null,
   "metadata": {},
   "outputs": [],
   "source": [
    "print(\"Rules\")\n",
    "for rule in skp2.rules_:\n",
    "    print(rule[0])\n",
    "print()\n",
    "print(20*'=')\n",
    "print()"
   ]
  },
  {
   "cell_type": "code",
   "execution_count": null,
   "metadata": {},
   "outputs": [],
   "source": [
    "#for i in skp2.rules_:\n",
    "#    print(\"rule:\" ,i[0])\n",
    "#    print(\"precision:\",i[1][0])\n",
    "#    print(\"recall:\", i[1][1])\n",
    "#    print()\n",
    "##(dict of tuples (rule, precision, recall, nb).)"
   ]
  },
  {
   "cell_type": "code",
   "execution_count": null,
   "metadata": {},
   "outputs": [],
   "source": [
    "#skp2.predict(X_new)==clf.predict(X)"
   ]
  },
  {
   "cell_type": "code",
   "execution_count": null,
   "metadata": {},
   "outputs": [],
   "source": [
    "err2=0\n",
    "for i in skp2.predict(X_new)==clf.predict(X):\n",
    "    if i==False:\n",
    "        err2=err2+1\n",
    "print(\"error rate:\", err2/len(X))"
   ]
  },
  {
   "cell_type": "markdown",
   "metadata": {},
   "source": [
    "# Comparaison, dans l'espace de variable, avec PCA, il faut normalisation"
   ]
  },
  {
   "cell_type": "code",
   "execution_count": null,
   "metadata": {},
   "outputs": [],
   "source": [
    "#PredictorScaler=StandardScaler()\n",
    "PredictorScaler=MinMaxScaler()\n",
    "\n",
    "PredictorScalerFit=PredictorScaler.fit(X)\n",
    "_norm=PredictorScalerFit.transform(X)\n",
    "X_norm=pd.DataFrame()\n",
    "for i in range(len(Feature_names)):\n",
    "    X_norm[Feature_names[i]]=_norm[:,i]\n",
    "\n",
    "X_norm"
   ]
  },
  {
   "cell_type": "code",
   "execution_count": null,
   "metadata": {},
   "outputs": [],
   "source": [
    "pca2 = PCA(n_components=2)"
   ]
  },
  {
   "cell_type": "code",
   "execution_count": null,
   "metadata": {},
   "outputs": [],
   "source": [
    "_redu=pca2.fit_transform(X_norm)"
   ]
  },
  {
   "cell_type": "code",
   "execution_count": null,
   "metadata": {},
   "outputs": [],
   "source": [
    "_redu"
   ]
  },
  {
   "cell_type": "code",
   "execution_count": null,
   "metadata": {},
   "outputs": [],
   "source": [
    "X_redu=pd.DataFrame()\n",
    "X_redu['v 1']=_redu[:,0]\n",
    "X_redu['v 2']=_redu[:,1]\n",
    "X_redu"
   ]
  },
  {
   "cell_type": "code",
   "execution_count": null,
   "metadata": {},
   "outputs": [],
   "source": [
    "kmeans = KMeans(n_clusters=2, random_state=(int)(time.time()))\n",
    "\n",
    "X_redu['cluster']=kmeans.fit_predict(X_redu[['v 1','v 2']])\n",
    "\n",
    "X_redu\n",
    "colors = ['#DF2020', '#81DF20']\n",
    "C2 = X_redu['cluster'].map({0:colors[0], 1:colors[1]})\n",
    "\n",
    "plt.scatter(_redu[:,0], _redu[:,1], c=C2, alpha = 0.6, s=10)"
   ]
  },
  {
   "cell_type": "code",
   "execution_count": null,
   "metadata": {},
   "outputs": [],
   "source": [
    "if sum(X_redu['cluster'])>len(X)/2:\n",
    "    X_redu['cluster']=1-X_redu['cluster']"
   ]
  },
  {
   "cell_type": "code",
   "execution_count": null,
   "metadata": {},
   "outputs": [],
   "source": [
    "skp2_r = SkopeRules(\n",
    "                 max_depth=3,\n",
    "                 max_depth_duplication=2,\n",
    "                 n_estimators=30,\n",
    "                 precision_min=0.3,\n",
    "                 recall_min=0.05,\n",
    "                 feature_names=Feature_names)"
   ]
  },
  {
   "cell_type": "code",
   "execution_count": null,
   "metadata": {},
   "outputs": [],
   "source": [
    "skp2_r.fit(X, X_redu['cluster'])"
   ]
  },
  {
   "cell_type": "code",
   "execution_count": null,
   "metadata": {},
   "outputs": [],
   "source": [
    "print(\"Rules\")\n",
    "for rule in skp2_r.rules_:\n",
    "    print(rule[0])\n",
    "print()\n",
    "print(20*'=')\n",
    "print()"
   ]
  },
  {
   "cell_type": "code",
   "execution_count": null,
   "metadata": {},
   "outputs": [],
   "source": [
    "#for i in skp2_r.rules_:\n",
    "#    print(\"rule:\" ,i[0])\n",
    "#    print(\"precision:\",i[1][0])\n",
    "#    print(\"recall:\", i[1][1])\n",
    "#    print()\n",
    "##(dict of tuples (rule, precision, recall, nb).)"
   ]
  },
  {
   "cell_type": "code",
   "execution_count": null,
   "metadata": {},
   "outputs": [],
   "source": [
    "err2_r=0\n",
    "for i in skp2_r.predict(X)==clf.predict(X):\n",
    "    if i==False:\n",
    "        err2_r=err2_r+1\n",
    "print(\"error rate:\",err2_r/len(X))"
   ]
  },
  {
   "cell_type": "markdown",
   "metadata": {},
   "source": [
    "# Conclusion\n",
    "## Le cluster dual est meilleur que le cluster dans l'espace de variable"
   ]
  },
  {
   "cell_type": "code",
   "execution_count": null,
   "metadata": {},
   "outputs": [],
   "source": []
  }
 ],
 "metadata": {
  "kernelspec": {
   "display_name": "Python 3",
   "language": "python",
   "name": "python3"
  },
  "language_info": {
   "codemirror_mode": {
    "name": "ipython",
    "version": 3
   },
   "file_extension": ".py",
   "mimetype": "text/x-python",
   "name": "python",
   "nbconvert_exporter": "python",
   "pygments_lexer": "ipython3",
   "version": "3.8.5"
  }
 },
 "nbformat": 4,
 "nbformat_minor": 4
}
